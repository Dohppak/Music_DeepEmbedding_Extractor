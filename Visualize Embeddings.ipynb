{
 "cells": [
  {
   "cell_type": "code",
   "execution_count": 37,
   "metadata": {},
   "outputs": [],
   "source": [
    "import os\n",
    "import numpy as np\n",
    "import pandas as pd\n",
    "from bokeh.plotting import figure, show, ColumnDataSource\n",
    "from bokeh.plotting import output_notebook, output_file, reset_output\n",
    "from sklearn.decomposition import PCA\n",
    "from sklearn.manifold import TSNE\n",
    "from sklearn.preprocessing import MinMaxScaler\n",
    "\n",
    "from extractor import embedding_extractor"
   ]
  },
  {
   "cell_type": "code",
   "execution_count": 26,
   "metadata": {},
   "outputs": [],
   "source": [
    "target_gender = ['female','male']\n",
    "target_inst = ['vocal','synth','strings','quiet']\n",
    "target_genre = ['classical','electronic','rock','country','metal']"
   ]
  },
  {
   "cell_type": "code",
   "execution_count": 41,
   "metadata": {},
   "outputs": [],
   "source": [
    "dataset_path = \"dataset/mtat\"\n",
    "# train_list = np.load(os.path.join(dataset_path, \"split\", \"train.npy\"))\n",
    "# binary = np.load(os.path.join(dataset_path, \"split\", \"binary.npy\"))\n",
    "# labels = np.load(os.path.join(dataset_path, \"split\", \"tags.npy\"))\n",
    "df_annotation = pd.read_csv(os.path.join(dataset_path, \"annotations_final.csv\"), sep=\"\\t\")"
   ]
  },
  {
   "cell_type": "code",
   "execution_count": 64,
   "metadata": {},
   "outputs": [],
   "source": [
    "female_mp3path = list(df_annotation[df_annotation[\"female\"] != 0][\"mp3_path\"])[:100]\n",
    "male_mp3path = list(df_annotation[df_annotation[\"male\"] != 0][\"mp3_path\"])[:100]\n",
    "strings_mp3path = list(df_annotation[df_annotation[\"strings\"] != 0][\"mp3_path\"])[:100]\n",
    "piano_mp3path = list(df_annotation[df_annotation[\"piano\"] != 0][\"mp3_path\"])[:100]\n",
    "vocal_mp3path = list(df_annotation[df_annotation[\"vocal\"] != 0][\"mp3_path\"])[:100]\n",
    "synth_mp3path = list(df_annotation[df_annotation[\"synth\"] != 0][\"mp3_path\"])[:100]\n",
    "classical = list(df_annotation[df_annotation[\"classical\"] != 0][\"mp3_path\"])[:100]\n",
    "electronic = list(df_annotation[df_annotation[\"electronic\"] != 0][\"mp3_path\"])[:100]"
   ]
  },
  {
   "cell_type": "code",
   "execution_count": 65,
   "metadata": {},
   "outputs": [],
   "source": [
    "target_gender = [female_mp3path, male_mp3path]\n",
    "target_inst = [strings_mp3path,piano_mp3path,vocal_mp3path,synth_mp3path]\n",
    "target_genre = [classical,electronic]"
   ]
  },
  {
   "cell_type": "code",
   "execution_count": 70,
   "metadata": {},
   "outputs": [],
   "source": [
    "def get_target_embeddings(target_path):\n",
    "    result = []\n",
    "    for path_list in target_path:\n",
    "        for mp3_path in path_list:\n",
    "            result.append(embedding_extractor(os.path.join(dataset_path,\"mp3\",mp3_path),\"FCN05\"))\n",
    "    return result"
   ]
  },
  {
   "cell_type": "code",
   "execution_count": null,
   "metadata": {},
   "outputs": [],
   "source": [
    "gender_embeddings = get_target_embeddings(target_gender)"
   ]
  },
  {
   "cell_type": "code",
   "execution_count": 31,
   "metadata": {},
   "outputs": [],
   "source": [
    "def dim_reduction(x, method='tsne', perplexity=50, n_iter=5000):\n",
    "    if method == 'pca':\n",
    "        trainer = PCA(n_components=2)\n",
    "    else:\n",
    "        trainer = TSNE(n_components=2, perplexity=perplexity, n_iter=n_iter)\n",
    "    result = trainer.fit_transform(x)\n",
    "    return scaler.fit_transform(result)"
   ]
  },
  {
   "cell_type": "code",
   "execution_count": 30,
   "metadata": {},
   "outputs": [],
   "source": [
    "# prepare visualization\n",
    "import numpy as np\n",
    "from bokeh.plotting import figure, show, ColumnDataSource\n",
    "from bokeh.plotting import output_notebook, output_file, reset_output\n",
    "\n",
    "def initialize_figure(title):\n",
    "    if title is None:\n",
    "        title = 'Untitled'\n",
    "\n",
    "    TOOLTIPS = [\n",
    "        (\"(x,y)\", \"($x, $y)\"),\n",
    "        (\"entity\", \"@desc\"),\n",
    "    ]\n",
    "\n",
    "    p = figure(title=title, tooltips=TOOLTIPS)\n",
    "    p.grid.grid_line_color = None\n",
    "    p.background_fill_color = \"white\"\n",
    "    p.width = 600\n",
    "    p.height = 600\n",
    "    return p\n",
    "\n",
    "def mtext(p, x, y, text, text_color, text_font_size, text_alpha):\n",
    "    p.text(x, y, text=[text], text_color=text_color, text_align=\"center\",\n",
    "           text_font_size=text_font_size, text_alpha=text_alpha)\n",
    "\n",
    "def annotation(p, coordinates, idx_to_text, text_shift=0.05,\n",
    "    text_font_size='15pt', text_color=\"firebrick\", text_alpha=1.0):\n",
    "\n",
    "    for idx, text in enumerate(idx_to_text):\n",
    "        if not text:\n",
    "            continue\n",
    "        x_ = coordinates[idx,0] + text_shift\n",
    "        y_ = coordinates[idx,1] + text_shift\n",
    "        text = idx_to_text[idx]\n",
    "        mtext(p, x_, y_, text, text_color, text_font_size, text_alpha)\n",
    "\n",
    "def draw(coordinates, idx_to_text, p=None, title=None, marker=\"circle\",\n",
    "         marker_color='orange', marker_size=5, marker_alpha=0.5):\n",
    "\n",
    "    # prepare figure\n",
    "    if p is None:\n",
    "        p = initialize_figure(title)\n",
    "\n",
    "    # prepare data source\n",
    "    source = ColumnDataSource(data=dict(\n",
    "        x = coordinates[:,0].tolist(),\n",
    "        y = coordinates[:,1].tolist(),\n",
    "        desc = idx_to_text\n",
    "    ))\n",
    "\n",
    "    # scatter plot\n",
    "    p.scatter('x', 'y', marker=marker, size=marker_size, line_color='black',\n",
    "              fill_color= marker_color, alpha=marker_alpha, source=source)\n",
    "    return p"
   ]
  },
  {
   "cell_type": "code",
   "execution_count": null,
   "metadata": {},
   "outputs": [],
   "source": []
  }
 ],
 "metadata": {
  "kernelspec": {
   "display_name": "Python 3",
   "language": "python",
   "name": "python3"
  },
  "language_info": {
   "codemirror_mode": {
    "name": "ipython",
    "version": 3
   },
   "file_extension": ".py",
   "mimetype": "text/x-python",
   "name": "python",
   "nbconvert_exporter": "python",
   "pygments_lexer": "ipython3",
   "version": "3.7.6"
  }
 },
 "nbformat": 4,
 "nbformat_minor": 4
}
